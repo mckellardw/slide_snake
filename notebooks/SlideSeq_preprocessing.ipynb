{
 "cells": [
  {
   "attachments": {},
   "cell_type": "markdown",
   "metadata": {},
   "source": [
    "# QC & preprocessing of SlideSeq data"
   ]
  },
  {
   "cell_type": "markdown",
   "metadata": {},
   "source": [
    "## Libraries & setup"
   ]
  },
  {
   "cell_type": "code",
   "execution_count": 1,
   "metadata": {},
   "outputs": [
    {
     "name": "stderr",
     "output_type": "stream",
     "text": [
      "/nfs/home/dmckellar/mambaforge/envs/sc/lib/python3.11/site-packages/umap/distances.py:1063: NumbaDeprecationWarning: \u001b[1mThe 'nopython' keyword argument was not supplied to the 'numba.jit' decorator. The implicit default value for this argument is currently False, but it will be changed to True in Numba 0.59.0. See https://numba.readthedocs.io/en/stable/reference/deprecation.html#deprecation-of-object-mode-fall-back-behaviour-when-using-jit for details.\u001b[0m\n",
      "  @numba.jit()\n",
      "/nfs/home/dmckellar/mambaforge/envs/sc/lib/python3.11/site-packages/umap/distances.py:1071: NumbaDeprecationWarning: \u001b[1mThe 'nopython' keyword argument was not supplied to the 'numba.jit' decorator. The implicit default value for this argument is currently False, but it will be changed to True in Numba 0.59.0. See https://numba.readthedocs.io/en/stable/reference/deprecation.html#deprecation-of-object-mode-fall-back-behaviour-when-using-jit for details.\u001b[0m\n",
      "  @numba.jit()\n",
      "/nfs/home/dmckellar/mambaforge/envs/sc/lib/python3.11/site-packages/umap/distances.py:1086: NumbaDeprecationWarning: \u001b[1mThe 'nopython' keyword argument was not supplied to the 'numba.jit' decorator. The implicit default value for this argument is currently False, but it will be changed to True in Numba 0.59.0. See https://numba.readthedocs.io/en/stable/reference/deprecation.html#deprecation-of-object-mode-fall-back-behaviour-when-using-jit for details.\u001b[0m\n",
      "  @numba.jit()\n",
      "/nfs/home/dmckellar/mambaforge/envs/sc/lib/python3.11/site-packages/tqdm/auto.py:21: TqdmWarning: IProgress not found. Please update jupyter and ipywidgets. See https://ipywidgets.readthedocs.io/en/stable/user_install.html\n",
      "  from .autonotebook import tqdm as notebook_tqdm\n"
     ]
    },
    {
     "name": "stdout",
     "output_type": "stream",
     "text": [
      "scanpy==1.9.3 anndata==0.9.2 umap==0.5.3 numpy==1.24.4 scipy==1.11.1 pandas==2.0.3 scikit-learn==1.3.0 statsmodels==0.14.0 python-igraph==0.10.6 pynndescent==0.5.8\n"
     ]
    },
    {
     "name": "stderr",
     "output_type": "stream",
     "text": [
      "/nfs/home/dmckellar/mambaforge/envs/sc/lib/python3.11/site-packages/umap/umap_.py:660: NumbaDeprecationWarning: \u001b[1mThe 'nopython' keyword argument was not supplied to the 'numba.jit' decorator. The implicit default value for this argument is currently False, but it will be changed to True in Numba 0.59.0. See https://numba.readthedocs.io/en/stable/reference/deprecation.html#deprecation-of-object-mode-fall-back-behaviour-when-using-jit for details.\u001b[0m\n",
      "  @numba.jit()\n"
     ]
    }
   ],
   "source": [
    "import anndata as ad\n",
    "import scanpy as sc\n",
    "import pandas as pd\n",
    "import os\n",
    "\n",
    "import numpy as np\n",
    "from numpy.random import default_rng\n",
    "\n",
    "import matplotlib.pyplot as plt\n",
    "\n",
    "sc.logging.print_header()"
   ]
  },
  {
   "cell_type": "code",
   "execution_count": 2,
   "metadata": {},
   "outputs": [],
   "source": [
    "import gc\n",
    "gc.enable()"
   ]
  },
  {
   "cell_type": "code",
   "execution_count": null,
   "metadata": {},
   "outputs": [],
   "source": [
    "# os.chdir(\"/path/to/slide_snake\") # replace this path with your path..."
   ]
  },
  {
   "cell_type": "code",
   "execution_count": null,
   "metadata": {},
   "outputs": [],
   "source": [
    "from scripts.py.utils import *\n",
    "from scripts.py.plots import *"
   ]
  },
  {
   "cell_type": "markdown",
   "metadata": {},
   "source": [
    "## Settings"
   ]
  },
  {
   "cell_type": "code",
   "execution_count": null,
   "metadata": {},
   "outputs": [],
   "source": [
    "# assay = \"STAR\"\n",
    "assay = \"kb\"\n",
    "\n",
    "print(assay)"
   ]
  },
  {
   "cell_type": "markdown",
   "metadata": {},
   "source": [
    "Load gene info"
   ]
  },
  {
   "cell_type": "code",
   "execution_count": null,
   "metadata": {},
   "outputs": [],
   "source": [
    "# Read the .tsv file\n",
    "gtf_info = pd.read_csv(\"resources/gene_lists/GRCm39_GENCODEM32_ReoT1L_gene_info_gtf.tsv\", sep=\"\\t\")\n",
    "gtf_info = gtf_info.drop_duplicates(subset=['GENEID'], keep='first')\n",
    "\n",
    "# Remove period/decimal suffixes from ensembl IDs\n",
    "gtf_info['GeneID'] = gtf_info['GENEID'].str.split('.').str[0]\n",
    "\n",
    "# Extract chromosome value before the colon\n",
    "gtf_info['chr'] = gtf_info['Chromosome'].str.split(':').str[0]\n",
    "\n",
    "# Add '.1' to the Reovirus gene names to match the gtf file...\n",
    "gtf_info[\"GENEID\"] = [f\"{GENE}.1\" if 'T1LReovirus' in GENE else GENE for GENE in gtf_info['GENEID']]\n",
    "\n",
    "print(f\"Using {len(gtf_info['GENEID'].unique())} ensembl IDs, from {gtf_info['GeneSymbol'].nunique()} genes, and {gtf_info['Biotype'].nunique()} biotypes...\\n\")\n",
    "\n",
    "# Display the first few rows\n",
    "print(gtf_info.head())\n",
    "# print(gtf_info.tail())"
   ]
  },
  {
   "cell_type": "markdown",
   "metadata": {},
   "source": [
    "## Load data"
   ]
  },
  {
   "cell_type": "code",
   "execution_count": null,
   "metadata": {},
   "outputs": [],
   "source": [
    "meta = pd.read_csv(\"resources/metadata_sheets/metadata_Seeker.csv\")"
   ]
  },
  {
   "cell_type": "code",
   "execution_count": null,
   "metadata": {},
   "outputs": [],
   "source": [
    "meta = meta.loc[(meta[\"polyA\"] == \"none\") | (meta[\"slide_chemistry\"] == \"dTVN\") | ([x in [\"SH7\", \"SH9\"] for x in meta[\"sample\"]])]\n",
    "meta.reset_index(inplace=True, drop=True)\n",
    "meta"
   ]
  },
  {
   "cell_type": "code",
   "execution_count": null,
   "metadata": {},
   "outputs": [],
   "source": [
    "adata_dict = {}\n",
    "\n",
    "for i in meta.index:\n",
    "    if assay == \"STAR\":\n",
    "        adata_dict[i] = sc.read_h5ad(\n",
    "            f\"{meta.loc[i, 'data_dir']}/STARsolo/Solo.out/GeneFull/raw/UniqueAndMultEM.h5ad\",   \n",
    "        )\n",
    "    elif assay == \"kb\":\n",
    "        adata_dict[i] = sc.read_h5ad(\n",
    "            f\"{meta.loc[i, 'data_dir']}/kb/raw/output.h5ad\"\n",
    "        )\n",
    "\n",
    "        # Ensembl IDs -> Gene Names\n",
    "        convert_feature_names(\n",
    "            adata_dict[i], \n",
    "            gtf_info\n",
    "        )\n",
    "        \n",
    "    print(f\"{meta['plot_title'][i]}: {adata_dict[i].shape[0]} spots x {adata_dict[i].shape[1]} genes\")\n",
    "    adata_dict[i].var_names_make_unique()\n",
    "\n",
    "    adata_dict[i].raw =adata_dict[i]"
   ]
  },
  {
   "cell_type": "code",
   "execution_count": null,
   "metadata": {},
   "outputs": [],
   "source": [
    "tmp_feat = ['Tnp1', \"Mir6236\"]\n",
    "\n",
    "sc.set_figure_params(\n",
    "    dpi=100,\n",
    "    transparent=True\n",
    ")\n",
    "\n",
    "plot_grid_of_embeddings(\n",
    "    adata_dict,\n",
    "    # color=['clusters'],\n",
    "    color=tmp_feat,\n",
    "    same_scale=False,\n",
    "    cmap=\"plasma\",\n",
    "    # size=5,\n",
    "    vmin=0.00001,\n",
    "    figsize=(12,3),\n",
    "    titles=meta['plot_title'],\n",
    "    # marker='s',\n",
    "    # use_raw=True,\n",
    "    basis='spatial'\n",
    ")"
   ]
  },
  {
   "attachments": {},
   "cell_type": "markdown",
   "metadata": {},
   "source": [
    "## QC & filtering"
   ]
  },
  {
   "cell_type": "code",
   "execution_count": null,
   "metadata": {},
   "outputs": [],
   "source": [
    "min_counts = 100\n",
    "\n",
    "for adata in adata_dict.values():\n",
    "    sc.pp.filter_cells(\n",
    "        adata, \n",
    "        min_counts = min_counts\n",
    "    )"
   ]
  },
  {
   "cell_type": "code",
   "execution_count": null,
   "metadata": {},
   "outputs": [],
   "source": [
    "for adata in adata_dict.values():\n",
    "    # Reovirus abundance\n",
    "    adata.var[\"Reo\"] = adata.var_names.str.startswith(\"T1LReo\")\n",
    "    sc.pp.calculate_qc_metrics(\n",
    "        adata, \n",
    "        qc_vars=[\"Reo\"], \n",
    "        inplace=True\n",
    "    )\n",
    "\n",
    "    # Gene biotype %'s\n",
    "    add_biotypes_pct(\n",
    "        adata,\n",
    "        biomart=gtf_info\n",
    "    )"
   ]
  },
  {
   "cell_type": "markdown",
   "metadata": {},
   "source": [
    "## Preprocessing"
   ]
  },
  {
   "cell_type": "code",
   "execution_count": null,
   "metadata": {},
   "outputs": [],
   "source": [
    "for adata in adata_dict.values():\n",
    "    sc.pp.normalize_total(\n",
    "        adata, \n",
    "        target_sum=1e4\n",
    "    )\n",
    "    sc.pp.log1p(adata)\n",
    "    # sc.pp.highly_variable_genes(\n",
    "    #     adata, \n",
    "    #     flavor=\"seurat\", \n",
    "    #     n_top_genes=1000\n",
    "    # )\n",
    "    sc.pp.pca(adata)\n",
    "    sc.pp.neighbors(adata)\n",
    "    sc.tl.leiden(\n",
    "        adata, \n",
    "        key_added=\"leiden\"\n",
    "    )"
   ]
  },
  {
   "cell_type": "code",
   "execution_count": null,
   "metadata": {},
   "outputs": [],
   "source": [
    "sc.set_figure_params(\n",
    "    figsize=(10,10),\n",
    "    dpi=300,\n",
    "    transparent=True\n",
    ")\n",
    "\n",
    "plot_grid_of_embeddings(\n",
    "    adata_dict,\n",
    "    color=['leiden'],\n",
    "    same_scale=False, \n",
    "    # plot_titles=meta[\"plot_title\"],\n",
    "    # size=5,\n",
    "    cmap='plasma',\n",
    "    basis='spatial'\n",
    ")\n",
    "print(meta[\"plot_title\"])"
   ]
  },
  {
   "attachments": {},
   "cell_type": "markdown",
   "metadata": {},
   "source": [
    "## Remove clusters containing empty spots"
   ]
  },
  {
   "cell_type": "code",
   "execution_count": null,
   "metadata": {},
   "outputs": [],
   "source": [
    "i=1\n",
    "sc.pl.embedding(\n",
    "    adata_dict[i],\n",
    "    # adata_dict[i][~adata_dict[i].obs['leiden'].isin(['0']), :],\n",
    "    basis='spatial',\n",
    "    size=10,\n",
    "    title=meta['plot_title'][i],\n",
    "    color='leiden'\n",
    ")"
   ]
  },
  {
   "cell_type": "code",
   "execution_count": null,
   "metadata": {},
   "outputs": [],
   "source": [
    "for i in meta.index:\n",
    "    print(f\"{meta['plot_title'][i]}: {adata_dict[i].shape[0]} spots x {adata_dict[i].shape[1]} genes\")"
   ]
  },
  {
   "cell_type": "markdown",
   "metadata": {},
   "source": [
    "## Convert spatial coordinates to microns"
   ]
  },
  {
   "cell_type": "code",
   "execution_count": null,
   "metadata": {},
   "outputs": [],
   "source": [
    "i=0\n",
    "print(f\"x range: {min(adata_dict[i].obsm['spatial'][:,0])}, {max(adata_dict[i].obsm['spatial'][:,0])}\")\n",
    "print(f\"y range: {min(adata_dict[i].obsm['spatial'][:,1])}, {max(adata_dict[i].obsm['spatial'][:,1])}\")"
   ]
  },
  {
   "cell_type": "code",
   "execution_count": null,
   "metadata": {},
   "outputs": [],
   "source": [
    "scale_factor=1/1.44  # from Curio \n",
    "print(f\"Scale factor: {scale_factor}\")\n",
    "\n",
    "for i in meta.index:\n",
    "    rescale_embedding(\n",
    "        adata_dict[i],\n",
    "        basis='spatial',\n",
    "        move_to_origin=True,\n",
    "        scale_factor=scale_factor\n",
    "    )"
   ]
  },
  {
   "cell_type": "markdown",
   "metadata": {},
   "source": [
    "## Spatial singlet filtering"
   ]
  },
  {
   "attachments": {},
   "cell_type": "markdown",
   "metadata": {},
   "source": [
    "Remove spots with fewer than `K` direct neighbors within `D` distance"
   ]
  },
  {
   "cell_type": "code",
   "execution_count": null,
   "metadata": {},
   "outputs": [],
   "source": [
    "for i in meta.index:\n",
    "    print(\"====================\")\n",
    "    adata_dict[i] = spatial_singlet_filter(\n",
    "        adata_dict[i],\n",
    "        K=2,\n",
    "        D=45,\n",
    "        iters=4,\n",
    "        inplace=False\n",
    "    )"
   ]
  },
  {
   "attachments": {},
   "cell_type": "markdown",
   "metadata": {},
   "source": [
    "## Add spliced/unspliced counts as layers"
   ]
  },
  {
   "cell_type": "code",
   "execution_count": null,
   "metadata": {},
   "outputs": [],
   "source": [
    "for i in meta.index:\n",
    "    for layer in [\"spliced\", \"unspliced\"]:\n",
    "        if assay == \"STAR\":\n",
    "            add_mtx_as_layer(\n",
    "                adata_dict[i],\n",
    "                mtx_path=f\"{meta['data_dir'][i]}/STARsolo/Solo.out/Velocyto/raw/{layer}.mtx.gz\",\n",
    "                obs_path=f\"{meta['data_dir'][i]}/STARsolo/Solo.out/Velocyto/raw/barcodes.tsv.gz\",\n",
    "                var_path=f\"{meta['data_dir'][i]}/STARsolo/Solo.out/Velocyto/raw/features.tsv.gz\",\n",
    "                layer_name=layer,\n",
    "                feature_column=1,\n",
    "                transpose=True,\n",
    "                verbose=False,\n",
    "                inplace=True\n",
    "            )\n",
    "            adata_dict[i].obs[f'n_counts_{layer}'] = adata_dict[i].layers[layer].sum(axis=1)\n",
    "            adata_dict[i].obs[f'n_counts_{layer}_log1p'] = np.log1p(adata_dict[i].obs[f'n_counts_{layer}'])\n",
    "        elif assay == \"kb\":\n",
    "            # Temporarily switch feature names to Ensembl IDs \n",
    "            adata_dict[i].var_names = adata_dict[i].var['GENEID'] \n",
    "            add_mtx_as_layer(\n",
    "                adata_dict[i],\n",
    "                mtx_path=f\"{meta['data_dir'][i]}/kb_velo/{layer}/output.mtx.gz\",\n",
    "                obs_path=f\"{meta['data_dir'][i]}/kb_velo/{layer}/output.barcodes.txt.gz\",\n",
    "                var_path=f\"{meta['data_dir'][i]}/kb_velo/{layer}/output.genes.txt.gz\",\n",
    "                layer_name=layer,\n",
    "                feature_column=0,\n",
    "                transpose=False,\n",
    "                verbose=True,\n",
    "                inplace=True\n",
    "            )\n",
    "            adata_dict[i].var_names = adata_dict[i].var['GeneSymbol']\n",
    "            adata_dict[i].obs[f'n_counts_{layer}'] = adata_dict[i].layers[layer].sum(axis=1)\n",
    "            adata_dict[i].obs[f'n_counts_{layer}_log1p'] = np.log1p(adata_dict[i].obs[f'n_counts_{layer}'])"
   ]
  },
  {
   "cell_type": "code",
   "execution_count": null,
   "metadata": {},
   "outputs": [],
   "source": [
    "adata_dict[3].obs"
   ]
  },
  {
   "cell_type": "code",
   "execution_count": null,
   "metadata": {},
   "outputs": [],
   "source": [
    "for adata in adata_dict.values():\n",
    "    adata.obs['splice_ratio'] = adata.obs['n_counts_spliced'] / (adata.obs['n_counts_spliced'] + adata.obs['n_counts_unspliced'])"
   ]
  },
  {
   "attachments": {},
   "cell_type": "markdown",
   "metadata": {},
   "source": [
    "## Save .h5ad files"
   ]
  },
  {
   "cell_type": "code",
   "execution_count": null,
   "metadata": {},
   "outputs": [],
   "source": [
    "for i in meta.index:\n",
    "    adata_dict[i].write_h5ad(\n",
    "        f\"data/h5ad/{meta['sample'][i]}_pp.h5ad\"\n",
    "    )"
   ]
  },
  {
   "attachments": {},
   "cell_type": "markdown",
   "metadata": {},
   "source": [
    "## Plots"
   ]
  },
  {
   "cell_type": "code",
   "execution_count": null,
   "metadata": {},
   "outputs": [],
   "source": [
    "tmp_feat = [\n",
    "    'log1p_total_counts',\n",
    "    'n_counts_spliced_log1p',\n",
    "    # 'splice_ratio',\n",
    "    'n_counts_unspliced_log1p'\n",
    "]\n",
    "sc.set_figure_params(\n",
    "    dpi=400,\n",
    "    fontsize=8,\n",
    "    transparent=True\n",
    ")\n",
    "plot_grid_of_embeddings(\n",
    "    adata_dict,\n",
    "    # color=['leiden'],\n",
    "    color=tmp_feat,\n",
    "    same_scale=True,\n",
    "    cmap=\"plasma\",\n",
    "    titles=meta['plot_title'],\n",
    "    figsize=(10,6),\n",
    "    colorbar_pad=0,\n",
    "    # size=5,\n",
    "    vmin=1,\n",
    "    hspace=0,\n",
    "    # use_raw=True,\n",
    "    basis='spatial'\n",
    ")"
   ]
  },
  {
   "cell_type": "code",
   "execution_count": null,
   "metadata": {},
   "outputs": [],
   "source": [
    "tmp_feat = [\n",
    "    'splice_ratio',\n",
    "    'pct.protein_coding', \"pct.rRNA\", \"pct.miRNA\"\n",
    "]\n",
    "sc.set_figure_params(\n",
    "    dpi=400,\n",
    "    fontsize=8,\n",
    "    transparent=True\n",
    ")\n",
    "plot_grid_of_embeddings(\n",
    "    adata_dict,\n",
    "    # color=['leiden'],\n",
    "    color=tmp_feat,\n",
    "    same_scale=True,\n",
    "    cmap=\"Spectral\",\n",
    "    titles=meta['plot_title'],\n",
    "    figsize=(10,6),\n",
    "    colorbar_pad=0,\n",
    "    # size=5,\n",
    "    vmin=0.01,\n",
    "    hspace=0,\n",
    "    # use_raw=True,\n",
    "    basis='spatial'\n",
    ")"
   ]
  },
  {
   "cell_type": "code",
   "execution_count": null,
   "metadata": {},
   "outputs": [],
   "source": [
    "i=3\n",
    "sc.set_figure_params(\n",
    "    figsize=(3,3),\n",
    "    dpi=200,\n",
    "    fontsize=10,\n",
    "    transparent=True\n",
    ")\n",
    "print(meta['plot_title'][i])\n",
    "sc.pl.embedding(\n",
    "    adata_dict[i],\n",
    "    # adata_dict[i][adata_dict[i].obs['spatial_neighbors_20']<2000],\n",
    "    # adata_dict[i][-adata_dict[i].obs['leiden'].isin(tmp_cl),:], \n",
    "    basis=\"spatial\",\n",
    "    # size=5**2,\n",
    "    # title=meta['plot_title'][i],\n",
    "    vmin=0.0001, vmax=1,\n",
    "    # vmin=100,\n",
    "    # vmax=500,\n",
    "    # color=\"spatial_neighbors_40\"\n",
    "    color=[\"leiden\",\"splice_ratio\"]\n",
    ")"
   ]
  }
 ],
 "metadata": {
  "kernelspec": {
   "display_name": "pyRNA6",
   "language": "python",
   "name": "python3"
  },
  "language_info": {
   "codemirror_mode": {
    "name": "ipython",
    "version": 3
   },
   "file_extension": ".py",
   "mimetype": "text/x-python",
   "name": "python",
   "nbconvert_exporter": "python",
   "pygments_lexer": "ipython3",
   "version": "3.11.4"
  },
  "orig_nbformat": 4,
  "vscode": {
   "interpreter": {
    "hash": "157036d7cdf42462b629e35d1a2b30fe3be4494c98ec77e2698e70f0239e05b0"
   }
  }
 },
 "nbformat": 4,
 "nbformat_minor": 2
}
